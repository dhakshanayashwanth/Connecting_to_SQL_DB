{
 "cells": [
  {
   "cell_type": "markdown",
   "metadata": {},
   "source": [
    "## Connecting to MySQL Server"
   ]
  },
  {
   "cell_type": "code",
   "execution_count": 5,
   "metadata": {},
   "outputs": [],
   "source": [
    "import pymysql\n",
    "\n",
    "import pandas as a"
   ]
  },
  {
   "cell_type": "code",
   "execution_count": 6,
   "metadata": {},
   "outputs": [
    {
     "name": "stdout",
     "output_type": "stream",
     "text": [
      "  dept_no           dept_name\n",
      "0    d009    Customer Service\n",
      "1    d005         Development\n",
      "2    d002             Finance\n",
      "3    d003     Human Resources\n",
      "4    d001           Marketing\n",
      "5    d004          Production\n",
      "6    d006  Quality Management\n",
      "7    d008            Research\n",
      "8    d007               Sales\n"
     ]
    }
   ],
   "source": [
    "conn=pymysql.connect(host='localhost',port=int(3306),user='root',passwd = '******',db='employees')\n",
    "\n",
    "df=a.read_sql_query(\"SELECT * FROM departments\",conn)\n",
    "\n",
    "print(df)"
   ]
  }
 ],
 "metadata": {
  "kernelspec": {
   "display_name": "Python 3",
   "language": "python",
   "name": "python3"
  },
  "language_info": {
   "codemirror_mode": {
    "name": "ipython",
    "version": 3
   },
   "file_extension": ".py",
   "mimetype": "text/x-python",
   "name": "python",
   "nbconvert_exporter": "python",
   "pygments_lexer": "ipython3",
   "version": "3.8.5"
  }
 },
 "nbformat": 4,
 "nbformat_minor": 4
}
